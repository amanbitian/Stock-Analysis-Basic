{
 "cells": [
  {
   "cell_type": "code",
   "execution_count": 1,
   "metadata": {
    "execution": {
     "iopub.execute_input": "2021-09-20T06:13:23.047108Z",
     "iopub.status.busy": "2021-09-20T06:13:23.046480Z",
     "iopub.status.idle": "2021-09-20T06:13:36.536023Z",
     "shell.execute_reply": "2021-09-20T06:13:36.535160Z",
     "shell.execute_reply.started": "2021-09-20T06:13:23.047009Z"
    }
   },
   "outputs": [
    {
     "name": "stdout",
     "output_type": "stream",
     "text": [
      "Collecting yfinance\n",
      "  Downloading yfinance-0.1.63.tar.gz (26 kB)\n",
      "Requirement already satisfied: pandas>=0.24 in /opt/conda/lib/python3.7/site-packages (from yfinance) (1.3.2)\n",
      "Requirement already satisfied: numpy>=1.15 in /opt/conda/lib/python3.7/site-packages (from yfinance) (1.19.5)\n",
      "Requirement already satisfied: requests>=2.20 in /opt/conda/lib/python3.7/site-packages (from yfinance) (2.25.1)\n",
      "Collecting multitasking>=0.0.7\n",
      "  Downloading multitasking-0.0.9.tar.gz (8.1 kB)\n",
      "Requirement already satisfied: lxml>=4.5.1 in /opt/conda/lib/python3.7/site-packages (from yfinance) (4.6.3)\n",
      "Requirement already satisfied: python-dateutil>=2.7.3 in /opt/conda/lib/python3.7/site-packages (from pandas>=0.24->yfinance) (2.8.0)\n",
      "Requirement already satisfied: pytz>=2017.3 in /opt/conda/lib/python3.7/site-packages (from pandas>=0.24->yfinance) (2021.1)\n",
      "Requirement already satisfied: six>=1.5 in /opt/conda/lib/python3.7/site-packages (from python-dateutil>=2.7.3->pandas>=0.24->yfinance) (1.15.0)\n",
      "Requirement already satisfied: urllib3<1.27,>=1.21.1 in /opt/conda/lib/python3.7/site-packages (from requests>=2.20->yfinance) (1.26.6)\n",
      "Requirement already satisfied: chardet<5,>=3.0.2 in /opt/conda/lib/python3.7/site-packages (from requests>=2.20->yfinance) (4.0.0)\n",
      "Requirement already satisfied: certifi>=2017.4.17 in /opt/conda/lib/python3.7/site-packages (from requests>=2.20->yfinance) (2021.5.30)\n",
      "Requirement already satisfied: idna<3,>=2.5 in /opt/conda/lib/python3.7/site-packages (from requests>=2.20->yfinance) (2.10)\n",
      "Building wheels for collected packages: yfinance, multitasking\n",
      "  Building wheel for yfinance (setup.py) ... \u001b[?25ldone\n",
      "\u001b[?25h  Created wheel for yfinance: filename=yfinance-0.1.63-py2.py3-none-any.whl size=23918 sha256=37ca13ce8f620d43f838bfe5f0cec8c7bada8bea0fd58e6945694c29e3a3ac18\n",
      "  Stored in directory: /root/.cache/pip/wheels/fe/87/8b/7ec24486e001d3926537f5f7801f57a74d181be25b11157983\n",
      "  Building wheel for multitasking (setup.py) ... \u001b[?25ldone\n",
      "\u001b[?25h  Created wheel for multitasking: filename=multitasking-0.0.9-py3-none-any.whl size=8375 sha256=76b139cd43230df5ec6a3ba1863e950de75baeb440a8001ca810a60ae1975213\n",
      "  Stored in directory: /root/.cache/pip/wheels/ae/25/47/4d68431a7ec1b6c4b5233365934b74c1d4e665bf5f968d363a\n",
      "Successfully built yfinance multitasking\n",
      "Installing collected packages: multitasking, yfinance\n",
      "Successfully installed multitasking-0.0.9 yfinance-0.1.63\n",
      "\u001b[33mWARNING: Running pip as the 'root' user can result in broken permissions and conflicting behaviour with the system package manager. It is recommended to use a virtual environment instead: https://pip.pypa.io/warnings/venv\u001b[0m\n"
     ]
    }
   ],
   "source": [
    "!pip install yfinance"
   ]
  },
  {
   "cell_type": "code",
   "execution_count": 2,
   "metadata": {
    "_cell_guid": "b1076dfc-b9ad-4769-8c92-a6c4dae69d19",
    "_uuid": "8f2839f25d086af736a60e9eeb907d3b93b6e0e5",
    "execution": {
     "iopub.execute_input": "2021-09-20T06:13:36.538195Z",
     "iopub.status.busy": "2021-09-20T06:13:36.537946Z",
     "iopub.status.idle": "2021-09-20T06:13:37.360126Z",
     "shell.execute_reply": "2021-09-20T06:13:37.359165Z",
     "shell.execute_reply.started": "2021-09-20T06:13:36.538165Z"
    }
   },
   "outputs": [],
   "source": [
    "import numpy as np # linear algebra\n",
    "import pandas as pd # data processing, CSV file I/O (e.g. pd.read_csv)\n",
    "\n",
    "\n",
    "import seaborn as sns\n",
    "import matplotlib.pyplot as plt\n",
    "\n",
    "\n",
    "import yfinance as yahooFinance"
   ]
  },
  {
   "cell_type": "code",
   "execution_count": 3,
   "metadata": {
    "execution": {
     "iopub.execute_input": "2021-09-20T06:13:37.361981Z",
     "iopub.status.busy": "2021-09-20T06:13:37.361657Z",
     "iopub.status.idle": "2021-09-20T06:13:37.402494Z",
     "shell.execute_reply": "2021-09-20T06:13:37.401567Z",
     "shell.execute_reply.started": "2021-09-20T06:13:37.361941Z"
    }
   },
   "outputs": [
    {
     "data": {
      "text/html": [
       "<div>\n",
       "<style scoped>\n",
       "    .dataframe tbody tr th:only-of-type {\n",
       "        vertical-align: middle;\n",
       "    }\n",
       "\n",
       "    .dataframe tbody tr th {\n",
       "        vertical-align: top;\n",
       "    }\n",
       "\n",
       "    .dataframe thead th {\n",
       "        text-align: right;\n",
       "    }\n",
       "</style>\n",
       "<table border=\"1\" class=\"dataframe\">\n",
       "  <thead>\n",
       "    <tr style=\"text-align: right;\">\n",
       "      <th></th>\n",
       "      <th>Company Name</th>\n",
       "      <th>Industry</th>\n",
       "      <th>Symbol</th>\n",
       "      <th>Series</th>\n",
       "      <th>ISIN Code</th>\n",
       "    </tr>\n",
       "  </thead>\n",
       "  <tbody>\n",
       "    <tr>\n",
       "      <th>0</th>\n",
       "      <td>ADF Foods Ltd.</td>\n",
       "      <td>CONSUMER GOODS</td>\n",
       "      <td>ADFFOODS</td>\n",
       "      <td>EQ</td>\n",
       "      <td>INE982B01019</td>\n",
       "    </tr>\n",
       "    <tr>\n",
       "      <th>1</th>\n",
       "      <td>AGC Networks Ltd.</td>\n",
       "      <td>IT</td>\n",
       "      <td>AGCNET</td>\n",
       "      <td>EQ</td>\n",
       "      <td>INE676A01019</td>\n",
       "    </tr>\n",
       "    <tr>\n",
       "      <th>2</th>\n",
       "      <td>Accelya Solutions India Ltd.</td>\n",
       "      <td>IT</td>\n",
       "      <td>ACCELYA</td>\n",
       "      <td>EQ</td>\n",
       "      <td>INE793A01012</td>\n",
       "    </tr>\n",
       "    <tr>\n",
       "      <th>3</th>\n",
       "      <td>Action Construction Equipment Ltd.</td>\n",
       "      <td>INDUSTRIAL MANUFACTURING</td>\n",
       "      <td>ACE</td>\n",
       "      <td>EQ</td>\n",
       "      <td>INE731H01025</td>\n",
       "    </tr>\n",
       "    <tr>\n",
       "      <th>4</th>\n",
       "      <td>Agro Tech Foods Ltd.</td>\n",
       "      <td>CONSUMER GOODS</td>\n",
       "      <td>ATFL</td>\n",
       "      <td>EQ</td>\n",
       "      <td>INE209A01019</td>\n",
       "    </tr>\n",
       "    <tr>\n",
       "      <th>...</th>\n",
       "      <td>...</td>\n",
       "      <td>...</td>\n",
       "      <td>...</td>\n",
       "      <td>...</td>\n",
       "      <td>...</td>\n",
       "    </tr>\n",
       "    <tr>\n",
       "      <th>245</th>\n",
       "      <td>Voltamp Transformers Ltd</td>\n",
       "      <td>INDUSTRIAL MANUFACTURING</td>\n",
       "      <td>VOLTAMP</td>\n",
       "      <td>EQ</td>\n",
       "      <td>INE540H01012</td>\n",
       "    </tr>\n",
       "    <tr>\n",
       "      <th>246</th>\n",
       "      <td>Welspun Enterprises Ltd.</td>\n",
       "      <td>CONSTRUCTION</td>\n",
       "      <td>WELENT</td>\n",
       "      <td>EQ</td>\n",
       "      <td>INE625G01013</td>\n",
       "    </tr>\n",
       "    <tr>\n",
       "      <th>247</th>\n",
       "      <td>West Coast Paper Mills Ltd.</td>\n",
       "      <td>PAPER AND JUTE</td>\n",
       "      <td>WSTCSTPAPR</td>\n",
       "      <td>EQ</td>\n",
       "      <td>INE976A01021</td>\n",
       "    </tr>\n",
       "    <tr>\n",
       "      <th>248</th>\n",
       "      <td>Wheels India Ltd.</td>\n",
       "      <td>AUTOMOBILE</td>\n",
       "      <td>WHEELS</td>\n",
       "      <td>EQ</td>\n",
       "      <td>INE715A01015</td>\n",
       "    </tr>\n",
       "    <tr>\n",
       "      <th>249</th>\n",
       "      <td>Wonderla Holidays Ltd.</td>\n",
       "      <td>CONSUMER SERVICES</td>\n",
       "      <td>WONDERLA</td>\n",
       "      <td>EQ</td>\n",
       "      <td>INE066O01014</td>\n",
       "    </tr>\n",
       "  </tbody>\n",
       "</table>\n",
       "<p>250 rows × 5 columns</p>\n",
       "</div>"
      ],
      "text/plain": [
       "                           Company Name                  Industry      Symbol  \\\n",
       "0                        ADF Foods Ltd.            CONSUMER GOODS    ADFFOODS   \n",
       "1                     AGC Networks Ltd.                        IT      AGCNET   \n",
       "2          Accelya Solutions India Ltd.                        IT     ACCELYA   \n",
       "3    Action Construction Equipment Ltd.  INDUSTRIAL MANUFACTURING         ACE   \n",
       "4                  Agro Tech Foods Ltd.            CONSUMER GOODS        ATFL   \n",
       "..                                  ...                       ...         ...   \n",
       "245            Voltamp Transformers Ltd  INDUSTRIAL MANUFACTURING     VOLTAMP   \n",
       "246            Welspun Enterprises Ltd.              CONSTRUCTION      WELENT   \n",
       "247         West Coast Paper Mills Ltd.            PAPER AND JUTE  WSTCSTPAPR   \n",
       "248                   Wheels India Ltd.                AUTOMOBILE      WHEELS   \n",
       "249              Wonderla Holidays Ltd.         CONSUMER SERVICES    WONDERLA   \n",
       "\n",
       "    Series     ISIN Code  \n",
       "0       EQ  INE982B01019  \n",
       "1       EQ  INE676A01019  \n",
       "2       EQ  INE793A01012  \n",
       "3       EQ  INE731H01025  \n",
       "4       EQ  INE209A01019  \n",
       "..     ...           ...  \n",
       "245     EQ  INE540H01012  \n",
       "246     EQ  INE625G01013  \n",
       "247     EQ  INE976A01021  \n",
       "248     EQ  INE715A01015  \n",
       "249     EQ  INE066O01014  \n",
       "\n",
       "[250 rows x 5 columns]"
      ]
     },
     "execution_count": 3,
     "metadata": {},
     "output_type": "execute_result"
    }
   ],
   "source": [
    "tickers= pd.read_csv('/kaggle/input/stocks-listed-on-nifty-500-july-2021/ind_niftymicrocap250_list.csv')\n",
    "tickers"
   ]
  },
  {
   "cell_type": "code",
   "execution_count": 4,
   "metadata": {
    "execution": {
     "iopub.execute_input": "2021-09-20T06:13:37.403952Z",
     "iopub.status.busy": "2021-09-20T06:13:37.403737Z",
     "iopub.status.idle": "2021-09-20T06:13:37.826471Z",
     "shell.execute_reply": "2021-09-20T06:13:37.825595Z",
     "shell.execute_reply.started": "2021-09-20T06:13:37.403927Z"
    }
   },
   "outputs": [
    {
     "name": "stderr",
     "output_type": "stream",
     "text": [
      "/opt/conda/lib/python3.7/site-packages/seaborn/_decorators.py:43: FutureWarning: Pass the following variable as a keyword arg: x. From version 0.12, the only valid positional argument will be `data`, and passing other arguments without an explicit keyword will result in an error or misinterpretation.\n",
      "  FutureWarning\n"
     ]
    },
    {
     "data": {
      "image/png": "[encoded data removed]",
      "text/plain": [
       "<Figure size 432x288 with 1 Axes>"
      ]
     },
     "metadata": {
      "needs_background": "light"
     },
     "output_type": "display_data"
    }
   ],
   "source": [
    "plt.xticks(rotation=90)\n",
    "plt.title('Sectorwise distribution of Nifty Micro Cap 250')\n",
    "sns.countplot(tickers.Industry,\n",
    "              order = tickers['Industry'].value_counts().index);"
   ]
  },
  {
   "cell_type": "markdown",
   "metadata": {},
   "source": [
    "# Short intro to Yahoo finance\n"
   ]
  },
  {
   "cell_type": "code",
   "execution_count": 5,
   "metadata": {
    "execution": {
     "iopub.execute_input": "2021-09-20T06:13:37.828847Z",
     "iopub.status.busy": "2021-09-20T06:13:37.828350Z",
     "iopub.status.idle": "2021-09-20T06:13:41.475069Z",
     "shell.execute_reply": "2021-09-20T06:13:41.474068Z",
     "shell.execute_reply.started": "2021-09-20T06:13:37.828810Z"
    }
   },
   "outputs": [
    {
     "name": "stdout",
     "output_type": "stream",
     "text": [
      "{'zip': '700071', 'sector': 'Consumer Defensive', 'fullTimeEmployees': 26071, 'longBusinessSummary': 'ITC Limited engages in the fast-moving consumer goods, hotels, paperboards and paper, packaging, agri, and information technology (IT) businesses in India and internationally. The company primarily offers cigarettes and cigars; staples, spices, biscuits, confectionery and gums, snacks, noodles and pasta, beverages, dairy, ready to eat meals, chocolate, coffee, and frozen foods; personal care products; notebooks, pens and pencils, geometry boxes, erasers, sharpeners, rulers, wax and plastic crayons, sketch pens, and oil pastels; safety matches; and incense sticks under various brands, as well as retails formal and casual wear products under the WLS brand. It also operates approximately 100 hotels under the ITC Hotel, WelcomHotel, Fortune, and WelcomHeritage brands; and Kaya Kalp spas. In addition, the company offers virgin, recycled, barrier coated, biodegradable barrier coated, and graphic boards, as well as specialty papers; and packaging products, such as carton board, flexible, tobacco, and green packaging products; and exports feed ingredients, food grains, marine products, processed fruits, coffee products, leaf tobacco products, and spices. Further, it offers information technology services for the banking, financial services, consumer packaged goods, manufacturing, travel, hospitality, and healthcare industries. Additionally, the company provides property infrastructure and estate maintenance, business consulting, real estate development, and agro-forestry and other related services; manages and operates golf courses; fabricates and assembles machinery for tube filling, cartoning, wrapping, conveyor solutions, and engineering services; produces and commercializes seed potato technology products; and air ticketing, car rental, inbound outbound tourism, domestic holiday, conference, event and exhibition management, and foreign exchange services. ITC Limited was incorporated in 1910 and is headquartered in Kolkata, India.', 'city': 'Kolkata', 'phone': '91 33 2288 9371', 'country': 'India', 'companyOfficers': [], 'website': 'http://www.itcportal.com', 'maxAge': 1, 'address1': 'Virginia House', 'fax': '91 33 2288 4016', 'industry': 'Tobacco', 'address2': '37 Jawaharlal Nehru Road', 'ebitdaMargins': 0.35004002, 'profitMargins': 0.26403, 'grossMargins': 0.57313997, 'operatingCashflow': None, 'revenueGrowth': 0.355, 'operatingMargins': 0.3207, 'ebitda': 184630706176, 'targetLowPrice': None, 'recommendationKey': 'none', 'grossProfits': 285690800000, 'freeCashflow': None, 'targetMedianPrice': None, 'currentPrice': 236.75, 'earningsGrowth': 0.304, 'currentRatio': None, 'returnOnAssets': None, 'numberOfAnalystOpinions': None, 'targetMeanPrice': None, 'debtToEquity': 0.446, 'returnOnEquity': None, 'targetHighPrice': None, 'totalCash': 198979305472, 'totalDebt': 2708300032, 'totalRevenue': 527459614720, 'totalCashPerShare': 8.083, 'financialCurrency': 'INR', 'revenuePerShare': 42.871, 'quickRatio': None, 'recommendationMean': None, 'exchange': 'NSI', 'shortName': 'ITC LTD', 'longName': 'ITC Limited', 'exchangeTimezoneName': 'Asia/Kolkata', 'exchangeTimezoneShortName': 'IST', 'isEsgPopulated': False, 'gmtOffSetMilliseconds': '19800000', 'quoteType': 'EQUITY', 'symbol': 'ITC.NS', 'messageBoardId': 'finmb_878153', 'market': 'in_market', 'annualHoldingsTurnover': None, 'enterpriseToRevenue': 10.423, 'beta3Year': None, 'enterpriseToEbitda': 29.776, '52WeekChange': 0.31522048, 'morningStarRiskRating': None, 'forwardEps': 11.32, 'revenueQuarterlyGrowth': None, 'sharesOutstanding': 12320300032, 'fundInceptionDate': None, 'annualReportExpenseRatio': None, 'totalAssets': None, 'bookValue': 49.028, 'sharesShort': None, 'sharesPercentSharesOut': None, 'fundFamily': None, 'lastFiscalYearEnd': 1617148800, 'heldPercentInstitutions': 0.45863998, 'netIncomeToCommon': 139266703360, 'trailingEps': 11.319, 'lastDividendValue': None, 'SandP52WeekChange': 0.3510847, 'priceToBook': 4.828873, 'heldPercentInsiders': 0.29721, 'nextFiscalYearEnd': 1680220800, 'yield': None, 'mostRecentQuarter': 1625011200, 'shortRatio': None, 'sharesShortPreviousMonthDate': None, 'floatShares': 16997282999, 'beta': 0.60655, 'enterpriseValue': 5497575964672, 'priceHint': 2, 'threeYearAverageReturn': None, 'lastSplitDate': None, 'lastSplitFactor': None, 'legalType': None, 'lastDividendDate': None, 'morningStarOverallRating': None, 'earningsQuarterlyGrowth': 0.305, 'priceToSalesTrailing12Months': 5.5299606, 'dateShortInterest': None, 'pegRatio': None, 'ytdReturn': None, 'forwardPE': 20.914312, 'lastCapGain': None, 'shortPercentOfFloat': None, 'sharesShortPriorMonth': None, 'impliedSharesOutstanding': None, 'category': None, 'fiveYearAverageReturn': None, 'previousClose': 231.15, 'regularMarketOpen': 231, 'twoHundredDayAverage': 208.98239, 'trailingAnnualDividendYield': 0.0465066, 'payoutRatio': 0.9496, 'volume24Hr': None, 'regularMarketDayHigh': 239.35, 'navPrice': None, 'averageDailyVolume10Day': 56931041, 'regularMarketPreviousClose': 231.15, 'fiftyDayAverage': 211.39143, 'trailingAnnualDividendRate': 10.75, 'open': 231, 'toCurrency': None, 'averageVolume10days': 56931041, 'expireDate': None, 'algorithm': None, 'dividendRate': 20.9, 'exDividendDate': 1623283200, 'circulatingSupply': None, 'startDate': None, 'regularMarketDayLow': 230.25, 'currency': 'INR', 'trailingPE': 20.916159, 'regularMarketVolume': 44467941, 'lastMarket': None, 'maxSupply': None, 'openInterest': None, 'marketCap': 2916830937088, 'volumeAllCurrencies': None, 'strikePrice': None, 'averageVolume': 21171465, 'dayLow': 230.25, 'ask': 237.05, 'askSize': 0, 'volume': 44467941, 'fiftyTwoWeekHigh': 239.35, 'fromCurrency': None, 'fiveYearAvgDividendYield': 2.98, 'fiftyTwoWeekLow': 163.35, 'bid': 237.05, 'tradeable': False, 'dividendYield': 0.0904, 'bidSize': 0, 'dayHigh': 239.35, 'regularMarketPrice': 236.75, 'logo_url': 'https://logo.clearbit.com/itcportal.com'}\n"
     ]
    }
   ],
   "source": [
    "# Here We are getting Facebook financial information\n",
    "# We need to pass ITC as argument for that .NS for National Stock Exchange u can also use only tickers but it won't come from nse \n",
    "Get_ITC_Information = yahooFinance.Ticker(\"ITC.NS\")\n",
    " \n",
    "# whole python dictionary is printed here\n",
    "print(Get_ITC_Information.info) \n",
    "\n",
    "# info – This method prints out a JSON formatter output which contains a lot of information \n",
    "\n",
    "# about the company starting from their business full name, summary, industry, exchanges listed on with country and time zone, and more. \n",
    "# It also comes equipped with the beta coefficient."
   ]
  },
  {
   "cell_type": "code",
   "execution_count": 6,
   "metadata": {
    "execution": {
     "iopub.execute_input": "2021-09-20T06:13:41.476418Z",
     "iopub.status.busy": "2021-09-20T06:13:41.476175Z",
     "iopub.status.idle": "2021-09-20T06:13:41.559074Z",
     "shell.execute_reply": "2021-09-20T06:13:41.558300Z",
     "shell.execute_reply.started": "2021-09-20T06:13:41.476393Z"
    }
   },
   "outputs": [
    {
     "name": "stdout",
     "output_type": "stream",
     "text": [
      "zip : 700071 \n",
      "\n",
      "sector : Consumer Defensive \n",
      "\n",
      "fullTimeEmployees : 26071 \n",
      "\n",
      "longBusinessSummary : ITC Limited engages in the fast-moving consumer goods, hotels, paperboards and paper, packaging, agri, and information technology (IT) businesses in India and internationally. The company primarily offers cigarettes and cigars; staples, spices, biscuits, confectionery and gums, snacks, noodles and pasta, beverages, dairy, ready to eat meals, chocolate, coffee, and frozen foods; personal care products; notebooks, pens and pencils, geometry boxes, erasers, sharpeners, rulers, wax and plastic crayons, sketch pens, and oil pastels; safety matches; and incense sticks under various brands, as well as retails formal and casual wear products under the WLS brand. It also operates approximately 100 hotels under the ITC Hotel, WelcomHotel, Fortune, and WelcomHeritage brands; and Kaya Kalp spas. In addition, the company offers virgin, recycled, barrier coated, biodegradable barrier coated, and graphic boards, as well as specialty papers; and packaging products, such as carton board, flexible, tobacco, and green packaging products; and exports feed ingredients, food grains, marine products, processed fruits, coffee products, leaf tobacco products, and spices. Further, it offers information technology services for the banking, financial services, consumer packaged goods, manufacturing, travel, hospitality, and healthcare industries. Additionally, the company provides property infrastructure and estate maintenance, business consulting, real estate development, and agro-forestry and other related services; manages and operates golf courses; fabricates and assembles machinery for tube filling, cartoning, wrapping, conveyor solutions, and engineering services; produces and commercializes seed potato technology products; and air ticketing, car rental, inbound outbound tourism, domestic holiday, conference, event and exhibition management, and foreign exchange services. ITC Limited was incorporated in 1910 and is headquartered in Kolkata, India. \n",
      "\n",
      "city : Kolkata \n",
      "\n",
      "phone : 91 33 2288 9371 \n",
      "\n",
      "country : India \n",
      "\n",
      "companyOfficers : [] \n",
      "\n",
      "website : http://www.itcportal.com \n",
      "\n",
      "maxAge : 1 \n",
      "\n",
      "address1 : Virginia House \n",
      "\n",
      "fax : 91 33 2288 4016 \n",
      "\n",
      "industry : Tobacco \n",
      "\n",
      "address2 : 37 Jawaharlal Nehru Road \n",
      "\n",
      "ebitdaMargins : 0.35004002 \n",
      "\n",
      "profitMargins : 0.26403 \n",
      "\n",
      "grossMargins : 0.57313997 \n",
      "\n",
      "operatingCashflow : None \n",
      "\n",
      "revenueGrowth : 0.355 \n",
      "\n",
      "operatingMargins : 0.3207 \n",
      "\n",
      "ebitda : 184630706176 \n",
      "\n",
      "targetLowPrice : None \n",
      "\n",
      "recommendationKey : none \n",
      "\n",
      "grossProfits : 285690800000 \n",
      "\n",
      "freeCashflow : None \n",
      "\n",
      "targetMedianPrice : None \n",
      "\n",
      "currentPrice : 236.75 \n",
      "\n",
      "earningsGrowth : 0.304 \n",
      "\n",
      "currentRatio : None \n",
      "\n",
      "returnOnAssets : None \n",
      "\n",
      "numberOfAnalystOpinions : None \n",
      "\n",
      "targetMeanPrice : None \n",
      "\n",
      "debtToEquity : 0.446 \n",
      "\n",
      "returnOnEquity : None \n",
      "\n",
      "targetHighPrice : None \n",
      "\n",
      "totalCash : 198979305472 \n",
      "\n",
      "totalDebt : 2708300032 \n",
      "\n",
      "totalRevenue : 527459614720 \n",
      "\n",
      "totalCashPerShare : 8.083 \n",
      "\n",
      "financialCurrency : INR \n",
      "\n",
      "revenuePerShare : 42.871 \n",
      "\n",
      "quickRatio : None \n",
      "\n",
      "recommendationMean : None \n",
      "\n",
      "exchange : NSI \n",
      "\n",
      "shortName : ITC LTD \n",
      "\n",
      "longName : ITC Limited \n",
      "\n",
      "exchangeTimezoneName : Asia/Kolkata \n",
      "\n",
      "exchangeTimezoneShortName : IST \n",
      "\n",
      "isEsgPopulated : False \n",
      "\n",
      "gmtOffSetMilliseconds : 19800000 \n",
      "\n",
      "quoteType : EQUITY \n",
      "\n",
      "symbol : ITC.NS \n",
      "\n",
      "messageBoardId : finmb_878153 \n",
      "\n",
      "market : in_market \n",
      "\n",
      "annualHoldingsTurnover : None \n",
      "\n",
      "enterpriseToRevenue : 10.423 \n",
      "\n",
      "beta3Year : None \n",
      "\n",
      "enterpriseToEbitda : 29.776 \n",
      "\n",
      "52WeekChange : 0.31522048 \n",
      "\n",
      "morningStarRiskRating : None \n",
      "\n",
      "forwardEps : 11.32 \n",
      "\n",
      "revenueQuarterlyGrowth : None \n",
      "\n",
      "sharesOutstanding : 12320300032 \n",
      "\n",
      "fundInceptionDate : None \n",
      "\n",
      "annualReportExpenseRatio : None \n",
      "\n",
      "totalAssets : None \n",
      "\n",
      "bookValue : 49.028 \n",
      "\n",
      "sharesShort : None \n",
      "\n",
      "sharesPercentSharesOut : None \n",
      "\n",
      "fundFamily : None \n",
      "\n",
      "lastFiscalYearEnd : 1617148800 \n",
      "\n",
      "heldPercentInstitutions : 0.45863998 \n",
      "\n",
      "netIncomeToCommon : 139266703360 \n",
      "\n",
      "trailingEps : 11.319 \n",
      "\n",
      "lastDividendValue : None \n",
      "\n",
      "SandP52WeekChange : 0.3510847 \n",
      "\n",
      "priceToBook : 4.828873 \n",
      "\n",
      "heldPercentInsiders : 0.29721 \n",
      "\n",
      "nextFiscalYearEnd : 1680220800 \n",
      "\n",
      "yield : None \n",
      "\n",
      "mostRecentQuarter : 1625011200 \n",
      "\n",
      "shortRatio : None \n",
      "\n",
      "sharesShortPreviousMonthDate : None \n",
      "\n",
      "floatShares : 16997282999 \n",
      "\n",
      "beta : 0.60655 \n",
      "\n",
      "enterpriseValue : 5497575964672 \n",
      "\n",
      "priceHint : 2 \n",
      "\n",
      "threeYearAverageReturn : None \n",
      "\n",
      "lastSplitDate : None \n",
      "\n",
      "lastSplitFactor : None \n",
      "\n",
      "legalType : None \n",
      "\n",
      "lastDividendDate : None \n",
      "\n",
      "morningStarOverallRating : None \n",
      "\n",
      "earningsQuarterlyGrowth : 0.305 \n",
      "\n",
      "priceToSalesTrailing12Months : 5.5299606 \n",
      "\n",
      "dateShortInterest : None \n",
      "\n",
      "pegRatio : None \n",
      "\n",
      "ytdReturn : None \n",
      "\n",
      "forwardPE : 20.914312 \n",
      "\n",
      "lastCapGain : None \n",
      "\n",
      "shortPercentOfFloat : None \n",
      "\n",
      "sharesShortPriorMonth : None \n",
      "\n",
      "impliedSharesOutstanding : None \n",
      "\n",
      "category : None \n",
      "\n",
      "fiveYearAverageReturn : None \n",
      "\n",
      "previousClose : 231.15 \n",
      "\n",
      "regularMarketOpen : 231 \n",
      "\n",
      "twoHundredDayAverage : 208.98239 \n",
      "\n",
      "trailingAnnualDividendYield : 0.0465066 \n",
      "\n",
      "payoutRatio : 0.9496 \n",
      "\n",
      "volume24Hr : None \n",
      "\n",
      "regularMarketDayHigh : 239.35 \n",
      "\n",
      "navPrice : None \n",
      "\n",
      "averageDailyVolume10Day : 56931041 \n",
      "\n",
      "regularMarketPreviousClose : 231.15 \n",
      "\n",
      "fiftyDayAverage : 211.39143 \n",
      "\n",
      "trailingAnnualDividendRate : 10.75 \n",
      "\n",
      "open : 231 \n",
      "\n",
      "toCurrency : None \n",
      "\n",
      "averageVolume10days : 56931041 \n",
      "\n",
      "expireDate : None \n",
      "\n",
      "algorithm : None \n",
      "\n",
      "dividendRate : 20.9 \n",
      "\n",
      "exDividendDate : 1623283200 \n",
      "\n",
      "circulatingSupply : None \n",
      "\n",
      "startDate : None \n",
      "\n",
      "regularMarketDayLow : 230.25 \n",
      "\n",
      "currency : INR \n",
      "\n",
      "trailingPE : 20.916159 \n",
      "\n",
      "regularMarketVolume : 44467941 \n",
      "\n",
      "lastMarket : None \n",
      "\n",
      "maxSupply : None \n",
      "\n",
      "openInterest : None \n",
      "\n",
      "marketCap : 2916830937088 \n",
      "\n",
      "volumeAllCurrencies : None \n",
      "\n",
      "strikePrice : None \n",
      "\n",
      "averageVolume : 21171465 \n",
      "\n",
      "dayLow : 230.25 \n",
      "\n",
      "ask : 237.05 \n",
      "\n",
      "askSize : 0 \n",
      "\n",
      "volume : 44467941 \n",
      "\n",
      "fiftyTwoWeekHigh : 239.35 \n",
      "\n",
      "fromCurrency : None \n",
      "\n",
      "fiveYearAvgDividendYield : 2.98 \n",
      "\n",
      "fiftyTwoWeekLow : 163.35 \n",
      "\n",
      "bid : 237.05 \n",
      "\n",
      "tradeable : False \n",
      "\n",
      "dividendYield : 0.0904 \n",
      "\n",
      "bidSize : 0 \n",
      "\n",
      "dayHigh : 239.35 \n",
      "\n",
      "regularMarketPrice : 236.75 \n",
      "\n",
      "logo_url : https://logo.clearbit.com/itcportal.com \n",
      "\n"
     ]
    }
   ],
   "source": [
    " # get all key value pairs that are available\n",
    "for key, value in Get_ITC_Information.info.items():\n",
    "    print(key, \":\", value,'\\n')"
   ]
  },
  {
   "cell_type": "code",
   "execution_count": 7,
   "metadata": {
    "execution": {
     "iopub.execute_input": "2021-09-20T06:13:41.560336Z",
     "iopub.status.busy": "2021-09-20T06:13:41.560134Z",
     "iopub.status.idle": "2021-09-20T06:13:41.567708Z",
     "shell.execute_reply": "2021-09-20T06:13:41.566905Z",
     "shell.execute_reply.started": "2021-09-20T06:13:41.560312Z"
    }
   },
   "outputs": [
    {
     "name": "stdout",
     "output_type": "stream",
     "text": [
      "Company Sector :  Consumer Defensive\n",
      "Price Earnings Ratio :  20.916159\n",
      " Company Beta :  0.60655\n",
      "\n",
      "\n",
      "Summary :  ITC Limited engages in the fast-moving consumer goods, hotels, paperboards and paper, packaging, agri, and information technology (IT) businesses in India and internationally. The company primarily offers cigarettes and cigars; staples, spices, biscuits, confectionery and gums, snacks, noodles and pasta, beverages, dairy, ready to eat meals, chocolate, coffee, and frozen foods; personal care products; notebooks, pens and pencils, geometry boxes, erasers, sharpeners, rulers, wax and plastic crayons, sketch pens, and oil pastels; safety matches; and incense sticks under various brands, as well as retails formal and casual wear products under the WLS brand. It also operates approximately 100 hotels under the ITC Hotel, WelcomHotel, Fortune, and WelcomHeritage brands; and Kaya Kalp spas. In addition, the company offers virgin, recycled, barrier coated, biodegradable barrier coated, and graphic boards, as well as specialty papers; and packaging products, such as carton board, flexible, tobacco, and green packaging products; and exports feed ingredients, food grains, marine products, processed fruits, coffee products, leaf tobacco products, and spices. Further, it offers information technology services for the banking, financial services, consumer packaged goods, manufacturing, travel, hospitality, and healthcare industries. Additionally, the company provides property infrastructure and estate maintenance, business consulting, real estate development, and agro-forestry and other related services; manages and operates golf courses; fabricates and assembles machinery for tube filling, cartoning, wrapping, conveyor solutions, and engineering services; produces and commercializes seed potato technology products; and air ticketing, car rental, inbound outbound tourism, domestic holiday, conference, event and exhibition management, and foreign exchange services. ITC Limited was incorporated in 1910 and is headquartered in Kolkata, India.\n"
     ]
    }
   ],
   "source": [
    " # display Company Sector\n",
    "print(\"Company Sector : \", Get_ITC_Information.info['sector'])\n",
    " \n",
    "# display Price Earnings Ratio\n",
    "print(\"Price Earnings Ratio : \", Get_ITC_Information.info['trailingPE'])\n",
    " \n",
    "# display Company Beta\n",
    "print(\" Company Beta : \", Get_ITC_Information.info['beta'])\n",
    "\n",
    "#display Summary\n",
    "print()\n",
    "print()\n",
    "print(\"Summary : \", Get_ITC_Information.info['longBusinessSummary'])"
   ]
  },
  {
   "cell_type": "code",
   "execution_count": 8,
   "metadata": {
    "execution": {
     "iopub.execute_input": "2021-09-20T06:13:41.569198Z",
     "iopub.status.busy": "2021-09-20T06:13:41.568959Z",
     "iopub.status.idle": "2021-09-20T06:13:41.989795Z",
     "shell.execute_reply": "2021-09-20T06:13:41.989202Z",
     "shell.execute_reply.started": "2021-09-20T06:13:41.569174Z"
    }
   },
   "outputs": [
    {
     "name": "stdout",
     "output_type": "stream",
     "text": [
      "                  Open        High         Low       Close     Volume  \\\n",
      "Date                                                                    \n",
      "2021-04-20  200.620463  201.398819  197.020584  198.042175   21364882   \n",
      "2021-04-22  196.534118  200.717768  195.123356  200.328583   23139735   \n",
      "2021-04-23  198.723231  201.398819  198.723231  199.793472   19625381   \n",
      "2021-04-26  200.231298  201.155589  199.161057  199.744827   19886214   \n",
      "2021-04-27  199.744817  201.350164  199.501582  199.842102   11444814   \n",
      "...                ...         ...         ...         ...        ...   \n",
      "2021-09-14  214.899994  217.250000  214.199997  216.100006   19621849   \n",
      "2021-09-15  217.100006  217.199997  215.300003  216.000000   20248758   \n",
      "2021-09-16  216.949997  233.649994  216.300003  230.750000  149238901   \n",
      "2021-09-17  233.000000  237.300003  229.100006  231.149994   79501805   \n",
      "2021-09-20  231.000000  239.350006  230.250000  236.750000   44472222   \n",
      "\n",
      "            Dividends  Stock Splits  \n",
      "Date                                 \n",
      "2021-04-20        0.0             0  \n",
      "2021-04-22        0.0             0  \n",
      "2021-04-23        0.0             0  \n",
      "2021-04-26        0.0             0  \n",
      "2021-04-27        0.0             0  \n",
      "...               ...           ...  \n",
      "2021-09-14        0.0             0  \n",
      "2021-09-15        0.0             0  \n",
      "2021-09-16        0.0             0  \n",
      "2021-09-17        0.0             0  \n",
      "2021-09-20        0.0             0  \n",
      "\n",
      "[105 rows x 7 columns]\n"
     ]
    }
   ],
   "source": [
    "# Valid options are 1d, 5d, 1mo, 3mo, 6mo, 1y,\n",
    "# 2y, 5y, 10y and ytd.\n",
    "print(Get_ITC_Information.history(period=\"5mo\"))"
   ]
  },
  {
   "cell_type": "code",
   "execution_count": 9,
   "metadata": {
    "execution": {
     "iopub.execute_input": "2021-09-20T06:13:41.990779Z",
     "iopub.status.busy": "2021-09-20T06:13:41.990595Z",
     "iopub.status.idle": "2021-09-20T06:13:42.674341Z",
     "shell.execute_reply": "2021-09-20T06:13:42.673784Z",
     "shell.execute_reply.started": "2021-09-20T06:13:41.990756Z"
    }
   },
   "outputs": [
    {
     "name": "stdout",
     "output_type": "stream",
     "text": [
      "                  Open        High         Low       Close     Volume  \\\n",
      "Date                                                                    \n",
      "1996-01-01    3.514265    3.545925    3.503712    3.535372     985500   \n",
      "1996-01-02    3.461499    3.524819    3.348930    3.401697    7470000   \n",
      "1996-01-03    3.250432    3.327119    3.230029    3.292645   15160500   \n",
      "1996-01-04    3.292645    3.376368    3.257467    3.354558   12397500   \n",
      "1996-01-05    3.354558    3.341894    3.285609    3.294052    5008500   \n",
      "...                ...         ...         ...         ...        ...   \n",
      "2021-09-14  214.899994  217.250000  214.199997  216.100006   19621849   \n",
      "2021-09-15  217.100006  217.199997  215.300003  216.000000   20248758   \n",
      "2021-09-16  216.949997  233.649994  216.300003  230.750000  149238901   \n",
      "2021-09-17  233.000000  237.300003  229.100006  231.149994   79501805   \n",
      "2021-09-20  231.000000  239.350006  230.250000  236.750000   44472222   \n",
      "\n",
      "            Dividends  Stock Splits  \n",
      "Date                                 \n",
      "1996-01-01        0.0           0.0  \n",
      "1996-01-02        0.0           0.0  \n",
      "1996-01-03        0.0           0.0  \n",
      "1996-01-04        0.0           0.0  \n",
      "1996-01-05        0.0           0.0  \n",
      "...               ...           ...  \n",
      "2021-09-14        0.0           0.0  \n",
      "2021-09-15        0.0           0.0  \n",
      "2021-09-16        0.0           0.0  \n",
      "2021-09-17        0.0           0.0  \n",
      "2021-09-20        0.0           0.0  \n",
      "\n",
      "[6456 rows x 7 columns]\n"
     ]
    }
   ],
   "source": [
    " # Let us  get historical stock prices for Facebook\n",
    "# covering the past few years.\n",
    "# max->maximum number of daily prices available\n",
    "# for Facebook.\n",
    "# Valid options are 1d, 5d, 1mo, 3mo, 6mo, 1y, 2y,\n",
    "# 5y, 10y and ytd.\n",
    "print(Get_ITC_Information.history(period=\"max\"))"
   ]
  },
  {
   "cell_type": "code",
   "execution_count": 10,
   "metadata": {
    "execution": {
     "iopub.execute_input": "2021-09-20T06:13:42.675675Z",
     "iopub.status.busy": "2021-09-20T06:13:42.675352Z",
     "iopub.status.idle": "2021-09-20T06:13:43.077757Z",
     "shell.execute_reply": "2021-09-20T06:13:43.076788Z",
     "shell.execute_reply.started": "2021-09-20T06:13:42.675649Z"
    }
   },
   "outputs": [
    {
     "name": "stdout",
     "output_type": "stream",
     "text": [
      "                  Open        High         Low       Close    Volume  \\\n",
      "Date                                                                   \n",
      "2019-05-31  261.553654  263.497110  250.796831  251.791138  26281811   \n",
      "2019-06-03  254.367359  254.457758  248.853348  251.791138  19569620   \n",
      "2019-06-04  252.423920  255.045326  252.017138  252.423920  13850737   \n",
      "2019-06-06  253.463409  253.463409  248.853335  249.260117  10660963   \n",
      "2019-06-07  250.209255  250.209255  247.859046  248.808167   7699206   \n",
      "...                ...         ...         ...         ...       ...   \n",
      "2021-01-22  203.388643  204.101454  198.779129  200.252274  24712182   \n",
      "2021-01-25  201.487800  201.963007  196.593173  197.496063  24967899   \n",
      "2021-01-27  197.686136  202.105555  196.830769  200.204727  48471357   \n",
      "2021-01-28  198.874167  200.537392  195.547718  196.355576  22131983   \n",
      "2021-01-29  198.208875  198.446478  192.316310  193.171677  23764654   \n",
      "\n",
      "            Dividends  Stock Splits  \n",
      "Date                                 \n",
      "2019-05-31        0.0             0  \n",
      "2019-06-03        0.0             0  \n",
      "2019-06-04        0.0             0  \n",
      "2019-06-06        0.0             0  \n",
      "2019-06-07        0.0             0  \n",
      "...               ...           ...  \n",
      "2021-01-22        0.0             0  \n",
      "2021-01-25        0.0             0  \n",
      "2021-01-27        0.0             0  \n",
      "2021-01-28        0.0             0  \n",
      "2021-01-29        0.0             0  \n",
      "\n",
      "[412 rows x 7 columns]\n"
     ]
    }
   ],
   "source": [
    "# in order to specify start date and\n",
    "# end date we need datetime package\n",
    "import datetime\n",
    " \n",
    "# startDate , as per our convenience we can modify\n",
    "startDate = datetime.datetime(2019, 5, 31)\n",
    " \n",
    "# endDate , as per our convenience we can modify\n",
    "endDate = datetime.datetime(2021, 1, 30)\n",
    "Get_Information = yahooFinance.Ticker(\"ITC.NS\")\n",
    " \n",
    "# pass the parameters as the taken dates for start and end\n",
    "print(Get_Information.history(start=startDate,\n",
    "                                     end=endDate))"
   ]
  },
  {
   "cell_type": "markdown",
   "metadata": {},
   "source": [
    "# yahoofinancials"
   ]
  },
  {
   "cell_type": "markdown",
   "metadata": {},
   "source": [
    "* **get_stock_quote_type_data()** – This method returns a lot of generic information about a stock which is `similar to the yfinance info() function`.\n",
    "\n",
    "* **get_summary_data()** – This method returns a `summary of the whole company along with useful data like the beta value`, price to book value, and more.\n",
    "\n",
    "* **get_stock_earnings_data()** – THis method returns the `information on the quarterly and yearly earnings of the company` along with the next date when the company will report its earnings.\n",
    "\n",
    "* **get_financial_stmts()** – This is another useful method to `retrieve financial statements of a company` which is useful for the analysis of a stock\n",
    "\n",
    "* **get_historical_price_data()** – This is a method `similar` to the `download()` or `Ticker()` function to get the prices of stock with start_date, end_date and interval ranges."
   ]
  },
  {
   "cell_type": "code",
   "execution_count": 11,
   "metadata": {
    "execution": {
     "iopub.execute_input": "2021-09-20T06:13:43.079676Z",
     "iopub.status.busy": "2021-09-20T06:13:43.079338Z",
     "iopub.status.idle": "2021-09-20T06:13:53.308723Z",
     "shell.execute_reply": "2021-09-20T06:13:53.308063Z",
     "shell.execute_reply.started": "2021-09-20T06:13:43.079632Z"
    }
   },
   "outputs": [
    {
     "name": "stdout",
     "output_type": "stream",
     "text": [
      "Collecting yahoofinancials\n",
      "  Downloading yahoofinancials-1.6.tar.gz (27 kB)\n",
      "Requirement already satisfied: beautifulsoup4 in /opt/conda/lib/python3.7/site-packages (from yahoofinancials) (4.9.3)\n",
      "Requirement already satisfied: pytz in /opt/conda/lib/python3.7/site-packages (from yahoofinancials) (2021.1)\n",
      "Requirement already satisfied: soupsieve>1.2 in /opt/conda/lib/python3.7/site-packages (from beautifulsoup4->yahoofinancials) (2.2.1)\n",
      "Building wheels for collected packages: yahoofinancials\n",
      "  Building wheel for yahoofinancials (setup.py) ... \u001b[?25ldone\n",
      "\u001b[?25h  Created wheel for yahoofinancials: filename=yahoofinancials-1.6-py3-none-any.whl size=15190 sha256=9c8e0440e3ca8afb5db56c6db1d9548b808c3634c985f73c738dde1b3c60aac2\n",
      "  Stored in directory: /root/.cache/pip/wheels/4b/63/46/e7110bfee88685fe69e338d1b14d1748921862aa57b6705b60\n",
      "Successfully built yahoofinancials\n",
      "Installing collected packages: yahoofinancials\n",
      "Successfully installed yahoofinancials-1.6\n",
      "\u001b[33mWARNING: Running pip as the 'root' user can result in broken permissions and conflicting behaviour with the system package manager. It is recommended to use a virtual environment instead: https://pip.pypa.io/warnings/venv\u001b[0m\n"
     ]
    }
   ],
   "source": [
    "!pip install yahoofinancials"
   ]
  },
  {
   "cell_type": "code",
   "execution_count": 12,
   "metadata": {
    "execution": {
     "iopub.execute_input": "2021-09-20T06:13:53.310546Z",
     "iopub.status.busy": "2021-09-20T06:13:53.310193Z",
     "iopub.status.idle": "2021-09-20T06:13:53.320034Z",
     "shell.execute_reply": "2021-09-20T06:13:53.319282Z",
     "shell.execute_reply.started": "2021-09-20T06:13:53.310486Z"
    }
   },
   "outputs": [],
   "source": [
    "from yahoofinancials import YahooFinancials"
   ]
  },
  {
   "cell_type": "code",
   "execution_count": 13,
   "metadata": {
    "execution": {
     "iopub.execute_input": "2021-09-20T06:13:53.321582Z",
     "iopub.status.busy": "2021-09-20T06:13:53.321312Z",
     "iopub.status.idle": "2021-09-20T06:14:11.608645Z",
     "shell.execute_reply": "2021-09-20T06:14:11.607807Z",
     "shell.execute_reply.started": "2021-09-20T06:13:53.321551Z"
    }
   },
   "outputs": [],
   "source": [
    "ticker = 'AAPL'\n",
    "yahoo_financials = YahooFinancials(ticker)\n",
    "balance_sheet_data_qt = yahoo_financials.get_financial_stmts('quarterly', 'balance')\n",
    "ncome_statement_data_qt = yahoo_financials.get_financial_stmts('quarterly', 'income')\n",
    "all_statement_data_qt =  yahoo_financials.get_financial_stmts('quarterly', ['income', 'cash', 'balance'])\n",
    "apple_earnings_data = yahoo_financials.get_stock_earnings_data()\n",
    "apple_net_income = yahoo_financials.get_net_income()\n",
    "historical_stock_prices = yahoo_financials.get_historical_price_data('2008-09-15', '2018-09-15', 'weekly')"
   ]
  },
  {
   "cell_type": "code",
   "execution_count": 14,
   "metadata": {
    "execution": {
     "iopub.execute_input": "2021-09-20T06:14:11.612667Z",
     "iopub.status.busy": "2021-09-20T06:14:11.612281Z",
     "iopub.status.idle": "2021-09-20T06:14:11.623036Z",
     "shell.execute_reply": "2021-09-20T06:14:11.622101Z",
     "shell.execute_reply.started": "2021-09-20T06:14:11.612621Z"
    }
   },
   "outputs": [
    {
     "data": {
      "text/plain": [
       "{'balanceSheetHistoryQuarterly': {'AAPL': [{'2021-06-26': {'totalLiab': 265560000000,\n",
       "     'totalStockholderEquity': 64280000000,\n",
       "     'otherCurrentLiab': 51306000000,\n",
       "     'totalAssets': 329840000000,\n",
       "     'commonStock': 54989000000,\n",
       "     'otherCurrentAssets': 13641000000,\n",
       "     'retainedEarnings': 9233000000,\n",
       "     'otherLiab': 38354000000,\n",
       "     'treasuryStock': 58000000,\n",
       "     'otherAssets': 44854000000,\n",
       "     'cash': 34050000000,\n",
       "     'totalCurrentLiabilities': 107754000000,\n",
       "     'shortLongTermDebt': 8039000000,\n",
       "     'otherStockholderEquity': 58000000,\n",
       "     'propertyPlantEquipment': 38615000000,\n",
       "     'totalCurrentAssets': 114423000000,\n",
       "     'longTermInvestments': 131948000000,\n",
       "     'netTangibleAssets': 64280000000,\n",
       "     'shortTermInvestments': 27646000000,\n",
       "     'netReceivables': 33908000000,\n",
       "     'longTermDebt': 105752000000,\n",
       "     'inventory': 5178000000,\n",
       "     'accountsPayable': 40409000000}},\n",
       "   {'2021-03-27': {'totalLiab': 267980000000,\n",
       "     'totalStockholderEquity': 69178000000,\n",
       "     'otherCurrentLiab': 53255000000,\n",
       "     'totalAssets': 337158000000,\n",
       "     'commonStock': 54203000000,\n",
       "     'otherCurrentAssets': 13376000000,\n",
       "     'retainedEarnings': 15261000000,\n",
       "     'otherLiab': 39853000000,\n",
       "     'treasuryStock': -286000000,\n",
       "     'otherAssets': 43339000000,\n",
       "     'cash': 38466000000,\n",
       "     'totalCurrentLiabilities': 106385000000,\n",
       "     'shortLongTermDebt': 8003000000,\n",
       "     'otherStockholderEquity': -286000000,\n",
       "     'propertyPlantEquipment': 37815000000,\n",
       "     'totalCurrentAssets': 121465000000,\n",
       "     'longTermInvestments': 134539000000,\n",
       "     'netTangibleAssets': 69178000000,\n",
       "     'shortTermInvestments': 31368000000,\n",
       "     'netReceivables': 33036000000,\n",
       "     'longTermDebt': 108642000000,\n",
       "     'inventory': 5219000000,\n",
       "     'accountsPayable': 40127000000}},\n",
       "   {'2020-12-26': {'totalLiab': 287830000000,\n",
       "     'totalStockholderEquity': 66224000000,\n",
       "     'otherCurrentLiab': 55899000000,\n",
       "     'totalAssets': 354054000000,\n",
       "     'commonStock': 51744000000,\n",
       "     'otherCurrentAssets': 13687000000,\n",
       "     'retainedEarnings': 14301000000,\n",
       "     'otherLiab': 43042000000,\n",
       "     'treasuryStock': 179000000,\n",
       "     'otherAssets': 43270000000,\n",
       "     'cash': 36010000000,\n",
       "     'totalCurrentLiabilities': 132507000000,\n",
       "     'shortLongTermDebt': 7762000000,\n",
       "     'otherStockholderEquity': 179000000,\n",
       "     'propertyPlantEquipment': 37933000000,\n",
       "     'totalCurrentAssets': 154106000000,\n",
       "     'longTermInvestments': 118745000000,\n",
       "     'netTangibleAssets': 66224000000,\n",
       "     'shortTermInvestments': 40816000000,\n",
       "     'netReceivables': 58620000000,\n",
       "     'longTermDebt': 99281000000,\n",
       "     'inventory': 4973000000,\n",
       "     'accountsPayable': 63846000000}},\n",
       "   {'2020-09-26': {'totalLiab': 258549000000,\n",
       "     'totalStockholderEquity': 65339000000,\n",
       "     'otherCurrentLiab': 47867000000,\n",
       "     'totalAssets': 323888000000,\n",
       "     'commonStock': 50779000000,\n",
       "     'otherCurrentAssets': 11264000000,\n",
       "     'retainedEarnings': 14966000000,\n",
       "     'otherLiab': 46108000000,\n",
       "     'treasuryStock': -406000000,\n",
       "     'otherAssets': 33952000000,\n",
       "     'cash': 38016000000,\n",
       "     'totalCurrentLiabilities': 105392000000,\n",
       "     'shortLongTermDebt': 8773000000,\n",
       "     'otherStockholderEquity': -406000000,\n",
       "     'propertyPlantEquipment': 45336000000,\n",
       "     'totalCurrentAssets': 143713000000,\n",
       "     'longTermInvestments': 100887000000,\n",
       "     'netTangibleAssets': 65339000000,\n",
       "     'shortTermInvestments': 52927000000,\n",
       "     'netReceivables': 37445000000,\n",
       "     'longTermDebt': 98667000000,\n",
       "     'inventory': 4061000000,\n",
       "     'accountsPayable': 42296000000}}]}}"
      ]
     },
     "execution_count": 14,
     "metadata": {},
     "output_type": "execute_result"
    }
   ],
   "source": [
    "balance_sheet_data_qt"
   ]
  },
  {
   "cell_type": "code",
   "execution_count": 15,
   "metadata": {
    "execution": {
     "iopub.execute_input": "2021-09-20T06:14:11.624782Z",
     "iopub.status.busy": "2021-09-20T06:14:11.624448Z",
     "iopub.status.idle": "2021-09-20T06:14:11.635558Z",
     "shell.execute_reply": "2021-09-20T06:14:11.634719Z",
     "shell.execute_reply.started": "2021-09-20T06:14:11.624730Z"
    }
   },
   "outputs": [
    {
     "data": {
      "text/plain": [
       "dict"
      ]
     },
     "execution_count": 15,
     "metadata": {},
     "output_type": "execute_result"
    }
   ],
   "source": [
    "type(balance_sheet_data_qt)"
   ]
  },
  {
   "cell_type": "code",
   "execution_count": 16,
   "metadata": {
    "execution": {
     "iopub.execute_input": "2021-09-20T06:14:11.637746Z",
     "iopub.status.busy": "2021-09-20T06:14:11.636959Z",
     "iopub.status.idle": "2021-09-20T06:15:57.971645Z",
     "shell.execute_reply": "2021-09-20T06:15:57.970617Z",
     "shell.execute_reply.started": "2021-09-20T06:14:11.637711Z"
    }
   },
   "outputs": [],
   "source": [
    "tech_stocks = ['AAPL', 'MSFT', 'INTC']\n",
    "bank_stocks = ['WFC', 'BAC', 'C']\n",
    "commodity_futures = ['GC=F', 'SI=F', 'CL=F']\n",
    "cryptocurrencies = ['BTC-USD', 'ETH-USD', 'XRP-USD']\n",
    "currencies = ['EURUSD=X', 'JPY=X', 'GBPUSD=X']\n",
    "mutual_funds = ['PRLAX', 'QASGX', 'HISFX']\n",
    "us_treasuries = ['^TNX', '^IRX', '^TYX']\n",
    "\n",
    "yahoo_financials_tech = YahooFinancials(tech_stocks)\n",
    "yahoo_financials_banks = YahooFinancials(bank_stocks)\n",
    "yahoo_financials_commodities = YahooFinancials(commodity_futures)\n",
    "yahoo_financials_cryptocurrencies = YahooFinancials(cryptocurrencies)\n",
    "yahoo_financials_currencies = YahooFinancials(currencies)\n",
    "yahoo_financials_mutualfunds = YahooFinancials(mutual_funds)\n",
    "yahoo_financials_treasuries = YahooFinancials(us_treasuries)\n",
    "\n",
    "tech_cash_flow_data_an = yahoo_financials_tech.get_financial_stmts('annual', 'cash')\n",
    "bank_cash_flow_data_an = yahoo_financials_banks.get_financial_stmts('annual', 'cash')\n",
    "\n",
    "banks_net_ebit = yahoo_financials_banks.get_ebit()\n",
    "tech_stock_price_data = yahoo_financials_tech.get_stock_price_data()\n",
    "daily_bank_stock_prices = yahoo_financials_banks.get_historical_price_data('2008-09-15', '2018-09-15', 'daily')\n",
    "daily_commodity_prices = yahoo_financials_commodities.get_historical_price_data('2008-09-15', '2018-09-15', 'daily')\n",
    "daily_crypto_prices = yahoo_financials_cryptocurrencies.get_historical_price_data('2008-09-15', '2018-09-15', 'daily')\n",
    "daily_currency_prices = yahoo_financials_currencies.get_historical_price_data('2008-09-15', '2018-09-15', 'daily')\n",
    "daily_mutualfund_prices = yahoo_financials_mutualfunds.get_historical_price_data('2008-09-15', '2018-09-15', 'daily')\n",
    "daily_treasury_prices = yahoo_financials_treasuries.get_historical_price_data('2008-09-15', '2018-09-15', 'daily')"
   ]
  },
  {
   "cell_type": "markdown",
   "metadata": {},
   "source": [
    "### ITC Key Statistics data "
   ]
  },
  {
   "cell_type": "code",
   "execution_count": 17,
   "metadata": {
    "execution": {
     "iopub.execute_input": "2021-09-20T06:15:57.973463Z",
     "iopub.status.busy": "2021-09-20T06:15:57.973118Z",
     "iopub.status.idle": "2021-09-20T06:15:59.119451Z",
     "shell.execute_reply": "2021-09-20T06:15:59.118490Z",
     "shell.execute_reply.started": "2021-09-20T06:15:57.973413Z"
    }
   },
   "outputs": [
    {
     "name": "stdout",
     "output_type": "stream",
     "text": [
      "{'ITC.NS': {'annualHoldingsTurnover': None, 'enterpriseToRevenue': 10.423, 'beta3Year': None, 'profitMargins': 0.26403, 'enterpriseToEbitda': 29.776, '52WeekChange': 0.31522048, 'morningStarRiskRating': None, 'forwardEps': 11.32, 'revenueQuarterlyGrowth': None, 'sharesOutstanding': 12320300032, 'fundInceptionDate': '-', 'annualReportExpenseRatio': None, 'totalAssets': None, 'bookValue': 49.028, 'sharesShort': None, 'sharesPercentSharesOut': None, 'fundFamily': None, 'lastFiscalYearEnd': 1617148800, 'heldPercentInstitutions': 0.45863998, 'netIncomeToCommon': 139266703360, 'trailingEps': 11.319, 'lastDividendValue': None, 'SandP52WeekChange': 0.3510847, 'priceToBook': 4.8227544, 'heldPercentInsiders': 0.29721, 'nextFiscalYearEnd': 1680220800, 'yield': None, 'mostRecentQuarter': 1625011200, 'shortRatio': None, 'sharesShortPreviousMonthDate': '-', 'floatShares': 16997282999, 'beta': 0.60655, 'enterpriseValue': 5497575964672, 'priceHint': 2, 'threeYearAverageReturn': None, 'lastSplitDate': '-', 'lastSplitFactor': None, 'legalType': None, 'lastDividendDate': '-', 'morningStarOverallRating': None, 'earningsQuarterlyGrowth': 0.305, 'priceToSalesTrailing12Months': None, 'dateShortInterest': None, 'pegRatio': None, 'ytdReturn': None, 'forwardPE': None, 'maxAge': 1, 'lastCapGain': None, 'shortPercentOfFloat': None, 'sharesShortPriorMonth': None, 'impliedSharesOutstanding': None, 'category': None, 'fiveYearAverageReturn': None}}\n"
     ]
    }
   ],
   "source": [
    "yahoo_financials = YahooFinancials('ITC.NS')\n",
    "ITC_stats=(yahoo_financials.get_key_statistics_data())\n",
    "print(ITC_stats)"
   ]
  },
  {
   "cell_type": "code",
   "execution_count": 18,
   "metadata": {
    "execution": {
     "iopub.execute_input": "2021-09-20T06:15:59.121183Z",
     "iopub.status.busy": "2021-09-20T06:15:59.120874Z",
     "iopub.status.idle": "2021-09-20T06:15:59.127409Z",
     "shell.execute_reply": "2021-09-20T06:15:59.126490Z",
     "shell.execute_reply.started": "2021-09-20T06:15:59.121142Z"
    }
   },
   "outputs": [
    {
     "data": {
      "text/plain": [
       "dict"
      ]
     },
     "execution_count": 18,
     "metadata": {},
     "output_type": "execute_result"
    }
   ],
   "source": [
    "type(ITC_stats)"
   ]
  },
  {
   "cell_type": "markdown",
   "metadata": {},
   "source": [
    "### Apples and ITC daily Dividend Data"
   ]
  },
  {
   "cell_type": "code",
   "execution_count": 19,
   "metadata": {
    "execution": {
     "iopub.execute_input": "2021-09-20T06:15:59.129211Z",
     "iopub.status.busy": "2021-09-20T06:15:59.128844Z",
     "iopub.status.idle": "2021-09-20T06:17:07.525219Z",
     "shell.execute_reply": "2021-09-20T06:17:07.524271Z",
     "shell.execute_reply.started": "2021-09-20T06:15:59.129170Z"
    }
   },
   "outputs": [
    {
     "name": "stdout",
     "output_type": "stream",
     "text": [
      "{'ITC.NS': None, 'WFC': [{'date': 562861800, 'formatted_date': '1987-11-02', 'amount': 0.01875}, {'date': 570724200, 'formatted_date': '1988-02-01', 'amount': 0.01875}, {'date': 578583000, 'formatted_date': '1988-05-02', 'amount': 0.020833}, {'date': 586445400, 'formatted_date': '1988-08-01', 'amount': 0.02075}]} \n",
      "\n",
      "<class 'dict'>\n"
     ]
    }
   ],
   "source": [
    "start_date = '1987-09-15'\n",
    "end_date = '1988-09-15'\n",
    "yahoo_financials = YahooFinancials(['ITC.NS', 'WFC'])\n",
    "dividend_itc= yahoo_financials.get_daily_dividend_data(start_date, end_date)\n",
    "print(dividend_itc, '\\n')\n",
    "print(type(dividend_itc))\n"
   ]
  },
  {
   "cell_type": "markdown",
   "metadata": {},
   "source": [
    "### Summary"
   ]
  },
  {
   "cell_type": "code",
   "execution_count": 20,
   "metadata": {
    "execution": {
     "iopub.execute_input": "2021-09-20T06:17:07.526937Z",
     "iopub.status.busy": "2021-09-20T06:17:07.526439Z",
     "iopub.status.idle": "2021-09-20T06:17:09.583972Z",
     "shell.execute_reply": "2021-09-20T06:17:09.583093Z",
     "shell.execute_reply.started": "2021-09-20T06:17:07.526902Z"
    }
   },
   "outputs": [
    {
     "name": "stdout",
     "output_type": "stream",
     "text": [
      "{'BTC-USD': {'previousClose': 47221.242, 'regularMarketOpen': 47221.242, 'twoHundredDayAverage': 45899.484, 'trailingAnnualDividendYield': None, 'payoutRatio': None, 'volume24Hr': 29655719936, 'regularMarketDayHigh': 47269.414, 'navPrice': None, 'averageDailyVolume10Day': 33412301390, 'totalAssets': None, 'regularMarketPreviousClose': 47221.242, 'fiftyDayAverage': 46500.31, 'trailingAnnualDividendRate': None, 'open': 47221.242, 'toCurrency': 'USD=X', 'averageVolume10days': 33412301390, 'expireDate': '-', 'yield': None, 'algorithm': None, 'dividendRate': None, 'exDividendDate': '-', 'beta': None, 'circulatingSupply': 18821000, 'startDate': '2013-04-28', 'regularMarketDayLow': 45420.65, 'priceHint': 2, 'currency': 'USD', 'regularMarketVolume': 29655719936, 'lastMarket': 'CoinMarketCap', 'maxSupply': None, 'openInterest': None, 'marketCap': 859204354048, 'volumeAllCurrencies': 29655719936, 'strikePrice': None, 'averageVolume': 32571091969, 'priceToSalesTrailing12Months': None, 'dayLow': 45420.65, 'ask': None, 'ytdReturn': None, 'askSize': None, 'volume': 29655719936, 'fiftyTwoWeekHigh': 64863.098, 'forwardPE': None, 'maxAge': 1, 'fromCurrency': 'BTC', 'fiveYearAvgDividendYield': None, 'fiftyTwoWeekLow': 10185.774, 'bid': None, 'tradeable': False, 'dividendYield': None, 'bidSize': None, 'dayHigh': 47269.414}} \n",
      "\n",
      "<class 'dict'>\n"
     ]
    }
   ],
   "source": [
    "yahoo_financials = YahooFinancials('BTC-USD')\n",
    "BTC_summary = yahoo_financials.get_summary_data()\n",
    "print(BTC_summary,'\\n')\n",
    "print(type(BTC_summary))"
   ]
  },
  {
   "cell_type": "code",
   "execution_count": 21,
   "metadata": {
    "execution": {
     "iopub.execute_input": "2021-09-20T06:17:09.585935Z",
     "iopub.status.busy": "2021-09-20T06:17:09.585442Z",
     "iopub.status.idle": "2021-09-20T06:17:13.111005Z",
     "shell.execute_reply": "2021-09-20T06:17:13.110232Z",
     "shell.execute_reply.started": "2021-09-20T06:17:09.585894Z"
    }
   },
   "outputs": [
    {
     "name": "stdout",
     "output_type": "stream",
     "text": [
      "{'companyOfficers': [], 'name': 'Bitcoin', 'startDate': 1367107200, 'description': 'Bitcoin (BTC) is a cryptocurrency . Users are able to generate BTC through the process of mining. Bitcoin has a current supply of 18,751,800. The last known price of Bitcoin is 32,956.8434224 USD and is up 0.85 over the last 24 hours. It is currently trading on 9030 active market(s) with $25,228,880,204.99 traded over the last 24 hours. More information can be found at https://bitcoin.org/.', 'maxAge': 1, 'exchange': 'CCC', 'shortName': 'Bitcoin USD', 'exchangeTimezoneName': 'Europe/London', 'exchangeTimezoneShortName': 'BST', 'isEsgPopulated': False, 'gmtOffSetMilliseconds': '3600000', 'quoteType': 'CRYPTOCURRENCY', 'symbol': 'BTC-USD', 'messageBoardId': 'finmb_BTC_CCC', 'market': 'ccc_market', 'previousClose': 47221.242, 'regularMarketOpen': 47221.242, 'twoHundredDayAverage': 45899.484, 'trailingAnnualDividendYield': None, 'payoutRatio': None, 'volume24Hr': 29655719936, 'regularMarketDayHigh': 47269.414, 'navPrice': None, 'averageDailyVolume10Day': 33412301390, 'totalAssets': None, 'regularMarketPreviousClose': 47221.242, 'fiftyDayAverage': 46500.31, 'trailingAnnualDividendRate': None, 'open': 47221.242, 'toCurrency': 'USD=X', 'averageVolume10days': 33412301390, 'expireDate': None, 'yield': None, 'algorithm': None, 'dividendRate': None, 'exDividendDate': None, 'beta': None, 'circulatingSupply': 18821000, 'regularMarketDayLow': 45420.65, 'priceHint': 2, 'currency': 'USD', 'regularMarketVolume': 29655719936, 'lastMarket': 'CoinMarketCap', 'maxSupply': None, 'openInterest': None, 'marketCap': 859204354048, 'volumeAllCurrencies': 29655719936, 'strikePrice': None, 'averageVolume': 32571091969, 'priceToSalesTrailing12Months': None, 'dayLow': 45420.65, 'ask': None, 'ytdReturn': None, 'askSize': None, 'volume': 29655719936, 'fiftyTwoWeekHigh': 64863.098, 'forwardPE': None, 'fromCurrency': 'BTC', 'fiveYearAvgDividendYield': None, 'fiftyTwoWeekLow': 10185.774, 'bid': None, 'tradeable': False, 'dividendYield': None, 'bidSize': None, 'dayHigh': 47269.414, 'regularMarketPrice': 45651.363, 'logo_url': ''}\n"
     ]
    }
   ],
   "source": [
    "Get_Information = yahooFinance.Ticker(\"BTC-USD\")\n",
    "print(Get_Information.info) \n"
   ]
  },
  {
   "cell_type": "markdown",
   "metadata": {},
   "source": [
    "# Pair Trading \n",
    "**Will among**\n",
    "* Ambuja Cement and ACC\n",
    "* ACC and Shree Cement\n",
    "* Infosys and wipro\n",
    "* Tech Mahindra and TCS\n",
    "* Cipla and Sun Pharma\n",
    "* ICICI Bank and Banknifty\n",
    "* Tata Steel and JSW Steel"
   ]
  }
 ],
 "metadata": {
  "kernelspec": {
   "display_name": "Python 3",
   "language": "python",
   "name": "python3"
  },
  "language_info": {
   "codemirror_mode": {
    "name": "ipython",
    "version": 3
   },
   "file_extension": ".py",
   "mimetype": "text/x-python",
   "name": "python",
   "nbconvert_exporter": "python",
   "pygments_lexer": "ipython3",
   "version": "3.9.6"
  }
 },
 "nbformat": 4,
 "nbformat_minor": 4
}
